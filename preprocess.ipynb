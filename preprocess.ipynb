{
 "cells": [
  {
   "cell_type": "code",
   "execution_count": 1,
   "metadata": {},
   "outputs": [],
   "source": [
    "import json\n",
    "import glob\n",
    "import os\n",
    "import string\n",
    "import random"
   ]
  },
  {
   "cell_type": "code",
   "execution_count": 72,
   "metadata": {},
   "outputs": [],
   "source": [
    "def isEndsWithHonorifics(str):\n",
    "  if str.endswith(\"요\") or str.endswith(\"다\") or str.endswith(\"죠\") or str.endswith(\"가\"):\n",
    "    return True\n",
    "  return False\n",
    "\n",
    "out = open(\"result.txt\", \"w\")\n",
    "qout = open(\"question.txt\", \"w\")\n",
    "\n",
    "for root, dirs, files in os.walk(\".\"):\n",
    "    for name in files:\n",
    "        # if name.endswith((\"test.txt\")): \n",
    "        if name.endswith((\"scripts.txt\")):\n",
    "            # print(os.getcwd()+name)\n",
    "            full_path = os.path.join(root, name)\n",
    "            \n",
    "            # print(full_path)\n",
    "            # Open a file\n",
    "            with open(full_path) as f:\n",
    "              prevText = \"\"\n",
    "              while True:\n",
    "                line = f.readline()\n",
    "                if not line:\n",
    "                  break\n",
    "\n",
    "                line = line.strip()\n",
    "\n",
    "                # parse with ::\n",
    "                text = line[line.index(\":\")+2::]\n",
    "\n",
    "                if len(text) > 100:\n",
    "                  continue\n",
    "                \n",
    "                # print(\"text: \" + text)\n",
    "                # print(\"prev: \" + prevText)\n",
    "                if text in prevText:\n",
    "                  # print(\"cont\")\n",
    "                  continue\n",
    "                prevText = text\n",
    "                \n",
    "                if \"(\" in line and \")\" in line:\n",
    "                  continue\n",
    "\n",
    "                question = False\n",
    "                if line[-1] in string.punctuation:\n",
    "                  if line[-1] == '?':\n",
    "                    question = True\n",
    "                    \n",
    "                  line = line[:-1]\n",
    "                  if isEndsWithHonorifics(line):\n",
    "                    str = ['/', '+', '*']\n",
    "\n",
    "                    for char in str:\n",
    "                      while char in line:\n",
    "                        line = line.replace(char, '')\n",
    "\n",
    "                    flag = False\n",
    "                    if \"(\" in line and \")\" in line:\n",
    "                      continue\n",
    "                      try:\n",
    "                        print(line)\n",
    "                        line = line[0 : line.index(\"(\") : ] + line[line.index(\"(\") + 1 : ]\n",
    "                        line = line[0 : line.index(\")\") : ] + line[line.index(\")\") + 1 : ]\n",
    "                        # remove next string in ()\n",
    "                        line = line[0 : line.index(\"(\") : ] + line[line.index(\")\") + 1 : ]\n",
    "                        # print(line)\n",
    "                      except:\n",
    "                        flag = True\n",
    "                        break\n",
    "                      \n",
    "                    if flag:\n",
    "                      # print(line)\n",
    "                      continue\n",
    "                    if question:\n",
    "                      qout.write(line + \"\\n\")\n",
    "                    else:\n",
    "                      out.write(line + \"\\n\")\n",
    "\n",
    "            # Close a file\n",
    "            f.close()\n",
    "qout.close()\n",
    "out.close()        "
   ]
  },
  {
   "cell_type": "code",
   "execution_count": 12,
   "metadata": {},
   "outputs": [
    {
     "name": "stdout",
     "output_type": "stream",
     "text": [
      "total:55295\n"
     ]
    }
   ],
   "source": [
    "out = open(\"final.txt\", \"w\")\n",
    "\n",
    "f = open(\"./question.txt\", \"r\")\n",
    "\n",
    "data = f.readlines()\n",
    "total = len(data)\n",
    "\n",
    "print(\"total:\" + str(total))\n",
    "\n",
    "numbers = list(range(0, total))\n",
    "random.shuffle(numbers)\n",
    "\n",
    "num = 0\n",
    "selectedCount = 0\n",
    "targetNumber = 15000 # \n",
    "numbers = numbers[:targetNumber]\n",
    "for line in data:\n",
    "  if num in numbers:\n",
    "    out.write(line)\n",
    "    # print(str(num) + \": \" + line)\n",
    "    selectedCount += 1\n",
    "  num += 1\n",
    "  if selectedCount == targetNumber:\n",
    "    break\n",
    "\n",
    "out.close()"
   ]
  },
  {
   "cell_type": "code",
   "execution_count": 13,
   "metadata": {},
   "outputs": [
    {
     "name": "stdout",
     "output_type": "stream",
     "text": [
      "total:246320\n"
     ]
    }
   ],
   "source": [
    "out = open(\"final_result.txt\", \"w\")\n",
    "\n",
    "f = open(\"./result.txt\", \"r\")\n",
    "\n",
    "data = f.readlines()\n",
    "total = len(data)\n",
    "\n",
    "print(\"total:\" + str(total))\n",
    "\n",
    "numbers = list(range(0, total))\n",
    "random.shuffle(numbers)\n",
    "\n",
    "num = 0\n",
    "selectedCount = 0\n",
    "targetNumber = 35000 # \n",
    "numbers = numbers[:targetNumber]\n",
    "for line in data:\n",
    "  if num in numbers:\n",
    "    out.write(line)\n",
    "    # print(str(num) + \": \" + line)\n",
    "    selectedCount += 1\n",
    "  num += 1\n",
    "  if selectedCount == targetNumber:\n",
    "    break\n",
    "\n",
    "out.close()"
   ]
  },
  {
   "cell_type": "code",
   "execution_count": 22,
   "metadata": {},
   "outputs": [
    {
     "name": "stdout",
     "output_type": "stream",
     "text": [
      "exist\n"
     ]
    }
   ],
   "source": [
    "f = open(\"./3.txt\", \"r\")\n",
    "\n",
    "ending_set = set()\n",
    "\n",
    "while True:\n",
    "  line = f.readline()\n",
    "  if not line:\n",
    "    break\n",
    "  ending_set.add(line.split()[-1])\n",
    "\n",
    "f.close()\n",
    "\n",
    "if \"줘\" in ending_set:\n",
    "  print(\"exist\")\n",
    "\n",
    "print(ending_set)\n",
    "\n",
    "'''\n",
    "out = open(\"command_list.txt\", \"w\")\n",
    "for root, dirs, files in os.walk(\".\"):\n",
    "    for name in files:\n",
    "        if name.endswith((\"scripts.txt\")):\n",
    "            # print(os.getcwd()+name)\n",
    "            full_path = os.path.join(root, name)\n",
    "            \n",
    "            # Open a file\n",
    "            with open(full_path) as f:\n",
    "              prevText = \"\"\n",
    "              while True:\n",
    "                line = f.readline()\n",
    "                if not line:\n",
    "                  break\n",
    "                \n",
    "                cleaned_line = line\n",
    "                if cleaned_line[-1] in string.punctuation:\n",
    "                  cleaned_line = cleaned_line[:-1]\n",
    "                ending_word = cleaned_line.split()[-1]\n",
    "                for str in ending_set:\n",
    "                  if str in ending_word:\n",
    "                    out.write(line)\n",
    "out.close()\n",
    "'''\n",
    "f.close()\n"
   ]
  }
 ],
 "metadata": {
  "kernelspec": {
   "display_name": "Python 3.9.7 ('base')",
   "language": "python",
   "name": "python3"
  },
  "language_info": {
   "codemirror_mode": {
    "name": "ipython",
    "version": 3
   },
   "file_extension": ".py",
   "mimetype": "text/x-python",
   "name": "python",
   "nbconvert_exporter": "python",
   "pygments_lexer": "ipython3",
   "version": "3.9.7"
  },
  "orig_nbformat": 4,
  "vscode": {
   "interpreter": {
    "hash": "74e8cc5548c2ba330e0b2a814347395565d98255b61d6c0758de63c16a009010"
   }
  }
 },
 "nbformat": 4,
 "nbformat_minor": 2
}
